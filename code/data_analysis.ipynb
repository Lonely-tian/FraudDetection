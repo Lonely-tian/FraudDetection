{
 "cells": [
  {
   "cell_type": "code",
   "execution_count": null,
   "metadata": {},
   "outputs": [],
   "source": [
    "import pandas as pd\n",
    "import numpy as np\n",
    "import seaborn as sns\n",
    "import matplotlib.pyplot as plt\n",
    "import time\n",
    "import warnings\n",
    "warnings.filterwarnings('ignore')\n",
    " \n",
    "# 加载数据文件\n",
    "df = pd.read_csv(\"creditcard.csv\")\n",
    " \n",
    "# 查看数据内容\n",
    "df.head()"
   ]
  },
  {
   "cell_type": "code",
   "execution_count": null,
   "metadata": {},
   "outputs": [],
   "source": [
    "# 检查是否有空置\n",
    "df.isnull().sum()"
   ]
  },
  {
   "cell_type": "code",
   "execution_count": null,
   "metadata": {},
   "outputs": [],
   "source": [
    "# 查看数据类型\n",
    "df.dtypes"
   ]
  },
  {
   "cell_type": "code",
   "execution_count": null,
   "metadata": {},
   "outputs": [],
   "source": [
    "# 查看Class分布\n",
    "labels = ['Not Fraud', 'Fraud'] # 标签\n",
    "size = df['Class'].value_counts() # 统计class的类别数量\n",
    "colors = ['lightgreen', 'orange'] # 颜色\n",
    "explode = [0, 0.1] # 饼图突出\n",
    "plt.figure(figsize=(9,9)) # 画布大小\n",
    "plt.pie(size, colors=colors, explode=explode, labels=labels, shadow=True, autopct='%.2f%%') # 饼图参数设置\n",
    "plt.axis('off') # 关闭坐标轴\n",
    "plt.title(\"Data Distribution\") # 标题\n",
    "plt.legend() # 显示标签\n",
    "plt.show() # 显示"
   ]
  },
  {
   "cell_type": "code",
   "execution_count": null,
   "metadata": {},
   "outputs": [],
   "source": [
    "features = df.drop(columns=['Class'])  # 如果 'Class' 是目标变量，请将其从特征中剔除\n",
    "num_features = len(features.columns)\n",
    "num_rows = 10\n",
    "num_cols = 3\n",
    "fig, ax = plt.subplots(nrows=num_rows, ncols=num_cols, figsize=(42, 200))\n",
    "plt.subplots_adjust(wspace=0.5, hspace=0.5)\n",
    "\n",
    "for i, feature in enumerate(features.columns):\n",
    "    sns.kdeplot(data=df, x=feature, hue='Class', ax=ax[i // 4, i % 4], fill=True, common_norm=False)\n",
    "    ax[i // 4, i % 4].set_title(f'Distribution of {feature}', fontsize=14)\n",
    "\n",
    "plt.show()"
   ]
  }
 ],
 "metadata": {
  "language_info": {
   "name": "python"
  }
 },
 "nbformat": 4,
 "nbformat_minor": 2
}
